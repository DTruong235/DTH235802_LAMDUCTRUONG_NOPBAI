{
 "cells": [
  {
   "cell_type": "code",
   "execution_count": 2,
   "id": "97a72d74",
   "metadata": {},
   "outputs": [
    {
     "name": "stdout",
     "output_type": "stream",
     "text": [
      "Chu vi hinh tron la:  12.566370614359172\n",
      "Dien tich hinh tron la:  4.0\n"
     ]
    }
   ],
   "source": [
    "import math\n",
    "try:\n",
    "    r = float(input(\"Nhap ban kinh hinh tron: \"))\n",
    "    cv=2*math.pi*r\n",
    "    dt=r**2\n",
    "    print(\"Chu vi hinh tron la: \", cv)\n",
    "    print(\"Dien tich hinh tron la: \",dt)\n",
    "except:\n",
    "    print(\"ERROR\")"
   ]
  },
  {
   "cell_type": "code",
   "execution_count": 3,
   "id": "dc358d23",
   "metadata": {},
   "outputs": [
    {
     "name": "stdout",
     "output_type": "stream",
     "text": [
      "0 : 1 : 40\n"
     ]
    }
   ],
   "source": [
    "t=int(input(\"Nhap so giay: \"))\n",
    "h=(t//3600)%24\n",
    "m=(t%3600)//60\n",
    "s=(t%60)%60\n",
    "print(h,\":\",m,\":\",s)"
   ]
  },
  {
   "cell_type": "code",
   "execution_count": 4,
   "id": "853db723",
   "metadata": {},
   "outputs": [
    {
     "name": "stdout",
     "output_type": "stream",
     "text": [
      "Diem trung binh la:  6.0\n",
      "Diem lam tron:  6.0\n"
     ]
    }
   ],
   "source": [
    "toan=float(input(\"Nhap diem toan: \"))\n",
    "ly=float(input(\"Nhap diem ly: \"))\n",
    "hoa=float(input(\"Nhap diem hoa: \"))\n",
    "dtb=(toan+ly+hoa)/3\n",
    "print(\"Diem trung binh la: \", dtb)\n",
    "print(\"Diem lam tron: \", round(dtb,2))"
   ]
  }
 ],
 "metadata": {
  "kernelspec": {
   "display_name": ".venv",
   "language": "python",
   "name": "python3"
  },
  "language_info": {
   "codemirror_mode": {
    "name": "ipython",
    "version": 3
   },
   "file_extension": ".py",
   "mimetype": "text/x-python",
   "name": "python",
   "nbconvert_exporter": "python",
   "pygments_lexer": "ipython3",
   "version": "3.13.7"
  }
 },
 "nbformat": 4,
 "nbformat_minor": 5
}
