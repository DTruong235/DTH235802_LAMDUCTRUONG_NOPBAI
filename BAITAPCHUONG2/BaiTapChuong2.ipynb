{
 "cells": [
  {
   "cell_type": "code",
   "execution_count": null,
   "id": "97a72d74",
   "metadata": {},
   "outputs": [
    {
     "name": "stdout",
     "output_type": "stream",
     "text": [
      "Chu vi hinh tron la:  12.566370614359172\n",
      "Dien tich hinh tron la:  4.0\n"
     ]
    }
   ],
   "source": [
    "#Bai1\n",
    "import math\n",
    "try:\n",
    "    r = float(input(\"Nhap ban kinh hinh tron: \"))\n",
    "    cv=2*math.pi*r\n",
    "    dt=r**2\n",
    "    print(\"Chu vi hinh tron la: \", cv)\n",
    "    print(\"Dien tich hinh tron la: \",dt)\n",
    "except:\n",
    "    print(\"ERROR\")"
   ]
  },
  {
   "cell_type": "code",
   "execution_count": 1,
   "id": "dc358d23",
   "metadata": {},
   "outputs": [
    {
     "name": "stdout",
     "output_type": "stream",
     "text": [
      "0 : 1 : 30\n"
     ]
    }
   ],
   "source": [
    "#Bai2\n",
    "t=int(input(\"Nhap so giay: \"))\n",
    "h=(t//3600)%24\n",
    "m=(t%3600)//60\n",
    "s=(t%60)%60\n",
    "print(h,\":\",m,\":\",s)"
   ]
  },
  {
   "cell_type": "code",
   "execution_count": 2,
   "id": "853db723",
   "metadata": {},
   "outputs": [
    {
     "name": "stdout",
     "output_type": "stream",
     "text": [
      "Diem trung binh la:  5.333333333333333\n",
      "Diem lam tron:  5.33\n"
     ]
    }
   ],
   "source": [
    "#Bai3\n",
    "toan=float(input(\"Nhap diem toan: \"))\n",
    "ly=float(input(\"Nhap diem ly: \"))\n",
    "hoa=float(input(\"Nhap diem hoa: \"))\n",
    "dtb=(toan+ly+hoa)/3\n",
    "print(\"Diem trung binh la: \", dtb)\n",
    "print(\"Diem lam tron: \", round(dtb,2))"
   ]
  },
  {
   "cell_type": "code",
   "execution_count": null,
   "id": "6e7c5a86",
   "metadata": {},
   "outputs": [],
   "source": [
    "#Bai4: Python hỗ trợ những kiểu dữ liệu cơ bản nào?\n",
    "# - int: số nguyên\n",
    "# - float: số thực\n",
    "# - bool: kiểu logic\n",
    "# - str: chuỗi ký tự\n",
    "# - list: danh sách\n",
    "# - tuple: bộ giá trị\n",
    "# - dict: từ điển\n",
    "# - set: tập hợp"
   ]
  },
  {
   "cell_type": "code",
   "execution_count": null,
   "id": "0630085b",
   "metadata": {},
   "outputs": [],
   "source": [
    "#Bai5\n",
    "# Trình bày các loại ghi chú trong Python. \n",
    "\n",
    "# 1. Ghi chú một dòng: Sử dụng dấu #\n",
    "# Ví dụ:\n",
    "# Đây là ghi chú một dòng\n",
    "\n",
    "# 2. Ghi chú nhiều dòng: Dùng nhiều dấu # liên tiếp hoặc dùng chuỗi nhiều dòng với ba dấu nháy kép (\"\"\" \"\"\") hoặc ba dấu nháy đơn (''' ''')\n",
    "# Ví dụ:\n",
    "''' Đây là ghi chú dòng 1\n",
    "    Đây là ghi chú dòng 2'''"
   ]
  },
  {
   "cell_type": "code",
   "execution_count": null,
   "id": "21f0cb45",
   "metadata": {},
   "outputs": [],
   "source": [
    "#Bai6 Trình bày ý nghĩa toán tử /, //, %, **, and, or, is.\n",
    "\n",
    "# /   : Chia lấy kết quả thực (float). Ví dụ: 5 / 2 = 2.5\n",
    "# //  : Chia lấy phần nguyên. Ví dụ: 5 // 2 = 2\n",
    "# %   : Chia lấy phần dư (modulo). Ví dụ: 5 % 2 = 1\n",
    "# **  : Lũy thừa. Ví dụ: 2 ** 3 = 8\n",
    "# and : Toán tử logic \"và\". Kết quả True nếu cả hai vế đều True.\n",
    "# or  : Toán tử logic \"hoặc\". Kết quả True nếu ít nhất một vế True.\n",
    "# is  : So sánh hai đối tượng có cùng tham chiếu không. Ví dụ: a is b"
   ]
  },
  {
   "cell_type": "code",
   "execution_count": null,
   "id": "12da935f",
   "metadata": {},
   "outputs": [],
   "source": [
    "# Câu 7: Trình bày một số cách nhập dữ liệu từ bàn phím.\n",
    "\n",
    "# 1. Sử dụng hàm input():\n",
    "    # name = input(\"Enter your name: \")\n",
    "# 2. Sử dụng thư viện sys:\n",
    "    # import sys\n",
    "    # data = sys.stdin.read()   \n",
    "# 3. Sử dụng thư viện argparse để xử lý đối số dòng lệnh:\n",
    "    # import argparse\n",
    "    # parser = argparse.ArgumentParser()\n",
    "    # parser.add_argument(\"--name\", help=\"Enter your name\")\n",
    "    # args = parser.parse_args()\n",
    "    # name = args.name"
   ]
  },
  {
   "cell_type": "code",
   "execution_count": null,
   "id": "676535dd",
   "metadata": {},
   "outputs": [],
   "source": [
    "# Câu 8: Trình bày các loại lỗi khi lập trình và cách bắt lỗi trong Python. \n",
    "\n",
    "# Các loại lỗi phổ biến:\n",
    "# 1. Lỗi cú pháp (Syntax Error): Do viết sai cú pháp của ngôn ngữ.\n",
    "# 2. Lỗi thời gian chạy (Runtime Error): Xảy ra khi chương trình đang chạy, ví dụ chia cho 0.\n",
    "# 3. Lỗi logic (Logical Error): Chương trình chạy nhưng kết quả không đúng như mong đợi.\n",
    "\n",
    "# Cách bắt lỗi trong Python:\n",
    "# Sử dụng khối try-except để bắt và xử lý lỗi.\n",
    "try:\n",
    "    # Mã có thể\n",
    "    x = 1 / 0  # Ví dụ lỗi chia cho 0\n",
    "except ZeroDivisionError:\n",
    "    print(\"Lỗi: Chia cho 0 không hợp lệ.\")\n",
    "# 4. Sử dụng khối finally để thực thi mã bất kể có lỗi hay không.\n",
    "import math\n",
    "try:\n",
    "    r = float(input(\"Nhap ban kinh hinh tron: \"))\n",
    "    cv=2*math.pi*r\n",
    "    dt=r**2\n",
    "    print(\"Chu vi hinh tron la: \", cv)\n",
    "    print(\"Dien tich hinh tron la: \",dt)\n",
    "except:\n",
    "    print(\"ERROR\")\n",
    "\n"
   ]
  },
  {
   "cell_type": "code",
   "execution_count": null,
   "id": "08fd4a22",
   "metadata": {},
   "outputs": [],
   "source": [
    "# Câu 9: Giải thích kết quả tính toán của các biểu thức\n",
    "''' i1 = 2 \n",
    "    i2 = 5 \n",
    "    i3 = -3 \n",
    "    d1 = 2.0 \n",
    "    d2 = 5.0 \n",
    "    d3 = -0.5 '''\n",
    "# (a) i1 + (i2 * i3) = -13 \n",
    "# (b) i1 * (i2 + i3) = 4\n",
    "# (c) i1 / (i2 + i3) = 1.0\n",
    "#  (d) i1 // (i2 + i3) = 1\n",
    "# (e) i1 / i2 + i3 = -2.6\n",
    "# (f) i1 // i2 + i3 = -3\n",
    "# (g) 3 + 4 + 5 / 3 = 8.666666666666666\n",
    "# (h) 3 + 4 + 5 // 3 = 8\n",
    "# (i) (3 + 4 + 5) / 3 = 4.0\n",
    "# (j) (3 + 4 + 5) // 3 = 4\n",
    "# (k) d1 + (d2 * d3) = -0.5\n",
    "# (l)  d1 + d2 * d3 = -0.5\n",
    "# (m) d1 / d2 - d3 = 0.9\n",
    "# (n) d1 / (d2 - d3) = 0.363636363636363636\n",
    "# (o) d1 + d2 + d3 / 3 = 6.833333333333333\n",
    "# (p) (d1 + d2 + d3) / 3 = 2.1666666666666666\n",
    "# (q) d1 + d2 + (d3 / 3) = 6.833333333333333\n",
    "# (r) 3 * (d1 + d2) * (d1 - d3) = 52.5\n"
   ]
  },
  {
   "cell_type": "code",
   "execution_count": null,
   "id": "8ed00ef5",
   "metadata": {},
   "outputs": [],
   "source": [
    "# Câu 10: Hãy viết ngắn gọn lại các lệnh dưới đây \n",
    "\n",
    "# (a) x = x + 1 <=> x+=1\n",
    "# (b) x = x / 2 <=> x/=2\n",
    "# (c) x = x – 1 <=> x-=1\n",
    "# (d) x = x + y <=> x+=y\n",
    "# (e) x = x - (y + 7) <=> x-= (y + 7)\n",
    "# (f) x = 2*x <=> x*=2\n",
    "# (g) number_of_closed_cases = number_of_closed_cases + 2*ncc <=> number_of_closed_cases += 2*ncc+\n"
   ]
  }
 ],
 "metadata": {
  "kernelspec": {
   "display_name": "Python 3",
   "language": "python",
   "name": "python3"
  },
  "language_info": {
   "codemirror_mode": {
    "name": "ipython",
    "version": 3
   },
   "file_extension": ".py",
   "mimetype": "text/x-python",
   "name": "python",
   "nbconvert_exporter": "python",
   "pygments_lexer": "ipython3",
   "version": "3.13.7"
  }
 },
 "nbformat": 4,
 "nbformat_minor": 5
}
